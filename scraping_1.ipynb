{
 "cells": [
  {
   "cell_type": "code",
   "execution_count": 1,
   "id": "b40aefe4",
   "metadata": {},
   "outputs": [],
   "source": [
    "from selenium import webdriver\n",
    "from selenium.webdriver.chrome.service import Service\n",
    "from webdriver_manager.chrome import ChromeDriverManager\n",
    "from selenium.webdriver.common.by import By\n",
    "\n",
    "from selenium.webdriver.support.ui import Select\n",
    "from selenium.webdriver.support.ui import WebDriverWait\n",
    "from selenium.webdriver.support import expected_conditions as EC\n",
    "from selenium.webdriver.common.action_chains import ActionChains\n",
    "from selenium.webdriver.chrome.options import Options\n",
    "\n",
    "import time \n",
    "from selenium.webdriver.common.keys import Keys\n",
    "\n",
    "\n",
    "import numpy as np\n",
    "import pandas as pd"
   ]
  },
  {
   "cell_type": "code",
   "execution_count": 2,
   "id": "f0f77a50",
   "metadata": {},
   "outputs": [
    {
     "name": "stderr",
     "output_type": "stream",
     "text": [
      "\n",
      "\n",
      "====== WebDriver manager ======\n",
      "Could not get version for google-chrome with the command:  powershell \"$ErrorActionPreference='silentlycontinue' ; (Get-Item -Path \"$env:PROGRAMFILES\\Google\\Chrome\\Application\\chrome.exe\").VersionInfo.FileVersion ; if (-not $? -or $? -match $error) { (Get-Item -Path \"$env:PROGRAMFILES(x86)\\Google\\Chrome\\Application\\chrome.exe\").VersionInfo.FileVersion } if (-not $? -or $? -match $error) { (Get-Item -Path \"$env:LOCALAPPDATA\\Google\\Chrome\\Application\\chrome.exe\").VersionInfo.FileVersion } if (-not $? -or $? -match $error) { reg query \"HKCU\\SOFTWARE\\Google\\Chrome\\BLBeacon\" /v version } if (-not $? -or $? -match $error) { reg query \"HKLM\\SOFTWARE\\Wow6432Node\\Microsoft\\Windows\\CurrentVersion\\Uninstall\\Google Chrome\" /v version }\"\n",
      "Current google-chrome version is UNKNOWN\n",
      "Get LATEST chromedriver version for UNKNOWN google-chrome\n",
      "Trying to download new driver from https://chromedriver.storage.googleapis.com/99.0.4844.51/chromedriver_win32.zip\n",
      "Driver has been saved in cache [C:\\Users\\fmtr\\.wdm\\drivers\\chromedriver\\win32\\99.0.4844.51]\n",
      "C:\\Users\\fmtr\\AppData\\Local\\Temp/ipykernel_1640/1254776758.py:3: DeprecationWarning: use options instead of chrome_options\n",
      "  driver = webdriver.Chrome(service=s, chrome_options=chrome_options)\n"
     ]
    }
   ],
   "source": [
    "s=Service(ChromeDriverManager().install())\n",
    "chrome_options = Options()\n",
    "driver = webdriver.Chrome(service=s, chrome_options=chrome_options)\n",
    "driver.create_options()\n",
    "\n",
    "driver.maximize_window()"
   ]
  },
  {
   "cell_type": "code",
   "execution_count": 3,
   "id": "140e1abb",
   "metadata": {},
   "outputs": [],
   "source": [
    "driver.get('https://www.noon.com/egypt-en/electronics-and-mobiles/mobiles-and-accessories/mobiles-20905/eg-mobiles-tablets/?f[is_fbn]=1')\n"
   ]
  },
  {
   "cell_type": "code",
   "execution_count": 4,
   "id": "16201084",
   "metadata": {},
   "outputs": [],
   "source": [
    "all_titles = driver.find_elements(By.XPATH, '/html/body/div[1]/div/section/div/div/div/div[2]/div[3]/div[*]/a/div/div/div[2]/div[1]/span/span[1]')"
   ]
  },
  {
   "cell_type": "code",
   "execution_count": 5,
   "id": "cc93987e",
   "metadata": {},
   "outputs": [],
   "source": [
    "titles = []\n",
    "for ele in all_titles:\n",
    "    titles.append(ele.text)"
   ]
  },
  {
   "cell_type": "code",
   "execution_count": 6,
   "id": "b2f61e59",
   "metadata": {},
   "outputs": [
    {
     "data": {
      "text/plain": [
       "50"
      ]
     },
     "execution_count": 6,
     "metadata": {},
     "output_type": "execute_result"
    }
   ],
   "source": [
    "len(titles)"
   ]
  },
  {
   "cell_type": "code",
   "execution_count": 7,
   "id": "d97b4460",
   "metadata": {},
   "outputs": [],
   "source": [
    "all_prices = driver.find_elements(By.XPATH, '/html/body/div[1]/div/section/div/div/div/div[2]/div[3]/div[*]/a/div/div/div[2]/div[2]/div/div[1]')"
   ]
  },
  {
   "cell_type": "code",
   "execution_count": 8,
   "id": "e1c27e48",
   "metadata": {},
   "outputs": [],
   "source": [
    "prices = []\n",
    "for price in all_prices:\n",
    "    prices.append(price.text)"
   ]
  },
  {
   "cell_type": "code",
   "execution_count": 9,
   "id": "0d2078bc",
   "metadata": {},
   "outputs": [
    {
     "data": {
      "text/plain": [
       "50"
      ]
     },
     "execution_count": 9,
     "metadata": {},
     "output_type": "execute_result"
    }
   ],
   "source": [
    "len(prices)"
   ]
  },
  {
   "cell_type": "code",
   "execution_count": 10,
   "id": "526e4cd0",
   "metadata": {},
   "outputs": [],
   "source": [
    "click_ele = driver.find_element(By.CLASS_NAME, 'next')"
   ]
  },
  {
   "cell_type": "code",
   "execution_count": 11,
   "id": "a1f098b4",
   "metadata": {},
   "outputs": [],
   "source": [
    "click_ele.click()"
   ]
  },
  {
   "cell_type": "code",
   "execution_count": null,
   "id": "cea1abc5",
   "metadata": {},
   "outputs": [
    {
     "name": "stdout",
     "output_type": "stream",
     "text": [
      "50\n",
      "100\n",
      "150\n",
      "200\n"
     ]
    }
   ],
   "source": [
    "titles = []\n",
    "prices = []\n",
    "\n",
    "while True:\n",
    "    all_titles = driver.find_elements(By.XPATH, '/html/body/div[1]/div/section/div/div/div/div[2]/div[3]/div[*]/a/div/div/div[2]/div[1]/span/span[1]')\n",
    "    all_prices = driver.find_elements(By.XPATH, '/html/body/div[1]/div/section/div/div/div/div[2]/div[3]/div[*]/a/div/div/div[2]/div[2]/div/div[1]')\n",
    "    if len(titles)>366:\n",
    "        break\n",
    "    for ele in all_titles:\n",
    "        titles.append(ele.text)\n",
    "    \n",
    "    for price in all_prices:\n",
    "        prices.append(price.text)\n",
    "    print(len(titles))\n",
    "    \n",
    "    try:\n",
    "        click_ele = driver.find_element(By.CLASS_NAME, 'next')\n",
    "        click_ele.click()\n",
    "        time.sleep(1)\n",
    "    except:\n",
    "        pass"
   ]
  },
  {
   "cell_type": "code",
   "execution_count": 20,
   "id": "7a45a040",
   "metadata": {},
   "outputs": [
    {
     "data": {
      "text/plain": [
       "56"
      ]
     },
     "execution_count": 20,
     "metadata": {},
     "output_type": "execute_result"
    }
   ],
   "source": [
    "len(titles)"
   ]
  },
  {
   "cell_type": "code",
   "execution_count": 97,
   "id": "78a63150",
   "metadata": {},
   "outputs": [
    {
     "data": {
      "text/plain": [
       "379"
      ]
     },
     "execution_count": 97,
     "metadata": {},
     "output_type": "execute_result"
    }
   ],
   "source": [
    "len(prices)"
   ]
  },
  {
   "cell_type": "code",
   "execution_count": 98,
   "id": "1de778dc",
   "metadata": {},
   "outputs": [],
   "source": [
    "noon = pd.DataFrame({'title': titles, 'price': prices})"
   ]
  },
  {
   "cell_type": "code",
   "execution_count": 100,
   "id": "b1aa959d",
   "metadata": {},
   "outputs": [
    {
     "data": {
      "text/html": [
       "<div>\n",
       "<style scoped>\n",
       "    .dataframe tbody tr th:only-of-type {\n",
       "        vertical-align: middle;\n",
       "    }\n",
       "\n",
       "    .dataframe tbody tr th {\n",
       "        vertical-align: top;\n",
       "    }\n",
       "\n",
       "    .dataframe thead th {\n",
       "        text-align: right;\n",
       "    }\n",
       "</style>\n",
       "<table border=\"1\" class=\"dataframe\">\n",
       "  <thead>\n",
       "    <tr style=\"text-align: right;\">\n",
       "      <th></th>\n",
       "      <th>title</th>\n",
       "      <th>price</th>\n",
       "    </tr>\n",
       "  </thead>\n",
       "  <tbody>\n",
       "    <tr>\n",
       "      <th>0</th>\n",
       "      <td>NOKIA 110 Dual SIM Black 4MB\\nRAM 4MB 2G</td>\n",
       "      <td>EGP 435.00</td>\n",
       "    </tr>\n",
       "    <tr>\n",
       "      <th>1</th>\n",
       "      <td>OPPO Reno 6 Aurora Dual Sim\\n8GB RAM 128GB 4G LTE</td>\n",
       "      <td>EGP 6320.00</td>\n",
       "    </tr>\n",
       "    <tr>\n",
       "      <th>2</th>\n",
       "      <td>Apple iPhone 12 Pro Max With\\nFacetime 128GB P...</td>\n",
       "      <td>EGP 19799.00</td>\n",
       "    </tr>\n",
       "    <tr>\n",
       "      <th>3</th>\n",
       "      <td>Samsung Galaxy A12 Dual SIM\\nBlack 4GB RAM 64G...</td>\n",
       "      <td>EGP 2790.00</td>\n",
       "    </tr>\n",
       "    <tr>\n",
       "      <th>4</th>\n",
       "      <td>OPPO Reno 6 Black Dual Sim\\n8GB RAM 128GB 4G LTE</td>\n",
       "      <td>EGP 6199.00</td>\n",
       "    </tr>\n",
       "  </tbody>\n",
       "</table>\n",
       "</div>"
      ],
      "text/plain": [
       "                                               title         price\n",
       "0           NOKIA 110 Dual SIM Black 4MB\\nRAM 4MB 2G    EGP 435.00\n",
       "1  OPPO Reno 6 Aurora Dual Sim\\n8GB RAM 128GB 4G LTE   EGP 6320.00\n",
       "2  Apple iPhone 12 Pro Max With\\nFacetime 128GB P...  EGP 19799.00\n",
       "3  Samsung Galaxy A12 Dual SIM\\nBlack 4GB RAM 64G...   EGP 2790.00\n",
       "4   OPPO Reno 6 Black Dual Sim\\n8GB RAM 128GB 4G LTE   EGP 6199.00"
      ]
     },
     "execution_count": 100,
     "metadata": {},
     "output_type": "execute_result"
    }
   ],
   "source": [
    "noon.head()"
   ]
  }
 ],
 "metadata": {
  "kernelspec": {
   "display_name": "Python 3 (ipykernel)",
   "language": "python",
   "name": "python3"
  },
  "language_info": {
   "codemirror_mode": {
    "name": "ipython",
    "version": 3
   },
   "file_extension": ".py",
   "mimetype": "text/x-python",
   "name": "python",
   "nbconvert_exporter": "python",
   "pygments_lexer": "ipython3",
   "version": "3.9.7"
  }
 },
 "nbformat": 4,
 "nbformat_minor": 5
}
