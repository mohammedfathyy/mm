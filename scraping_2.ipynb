{
 "cells": [
  {
   "cell_type": "code",
   "execution_count": 1,
   "id": "ec1aa8c3",
   "metadata": {},
   "outputs": [],
   "source": [
    "from selenium import webdriver\n",
    "from selenium.webdriver.chrome.service import Service\n",
    "from webdriver_manager.chrome import ChromeDriverManager\n",
    "from selenium.webdriver.common.by import By\n",
    "\n",
    "from selenium.webdriver.support.ui import Select\n",
    "from selenium.webdriver.support.ui import WebDriverWait\n",
    "from selenium.webdriver.support import expected_conditions as EC\n",
    "from selenium.webdriver.common.action_chains import ActionChains\n",
    "from selenium.webdriver.chrome.options import Options\n",
    "\n",
    "import time \n",
    "from selenium.webdriver.common.keys import Keys\n",
    "\n",
    "\n",
    "import numpy as np\n",
    "import pandas as pd"
   ]
  },
  {
   "cell_type": "code",
   "execution_count": 2,
   "id": "aef49a60",
   "metadata": {},
   "outputs": [
    {
     "name": "stderr",
     "output_type": "stream",
     "text": [
      "\n",
      "\n",
      "====== WebDriver manager ======\n",
      "Could not get version for google-chrome with the command:  powershell \"$ErrorActionPreference='silentlycontinue' ; (Get-Item -Path \"$env:PROGRAMFILES\\Google\\Chrome\\Application\\chrome.exe\").VersionInfo.FileVersion ; if (-not $? -or $? -match $error) { (Get-Item -Path \"$env:PROGRAMFILES(x86)\\Google\\Chrome\\Application\\chrome.exe\").VersionInfo.FileVersion } if (-not $? -or $? -match $error) { (Get-Item -Path \"$env:LOCALAPPDATA\\Google\\Chrome\\Application\\chrome.exe\").VersionInfo.FileVersion } if (-not $? -or $? -match $error) { reg query \"HKCU\\SOFTWARE\\Google\\Chrome\\BLBeacon\" /v version } if (-not $? -or $? -match $error) { reg query \"HKLM\\SOFTWARE\\Wow6432Node\\Microsoft\\Windows\\CurrentVersion\\Uninstall\\Google Chrome\" /v version }\"\n",
      "Current google-chrome version is UNKNOWN\n",
      "Get LATEST chromedriver version for UNKNOWN google-chrome\n",
      "Trying to download new driver from https://chromedriver.storage.googleapis.com/99.0.4844.51/chromedriver_win32.zip\n",
      "Driver has been saved in cache [C:\\Users\\fmtr\\.wdm\\drivers\\chromedriver\\win32\\99.0.4844.51]\n",
      "C:\\Users\\fmtr\\AppData\\Local\\Temp/ipykernel_13848/1254776758.py:3: DeprecationWarning: use options instead of chrome_options\n",
      "  driver = webdriver.Chrome(service=s, chrome_options=chrome_options)\n"
     ]
    }
   ],
   "source": [
    "s=Service(ChromeDriverManager().install())\n",
    "chrome_options = Options()\n",
    "driver = webdriver.Chrome(service=s, chrome_options=chrome_options)\n",
    "driver.create_options()\n",
    "\n",
    "driver.maximize_window()"
   ]
  },
  {
   "cell_type": "code",
   "execution_count": 3,
   "id": "76c9049e",
   "metadata": {},
   "outputs": [],
   "source": [
    "driver.get('https://www.noon.com/egypt-en/electronics-and-mobiles/computers-and-accessories/eg-mobiles-tablets/?f[is_fbn]=1')"
   ]
  },
  {
   "cell_type": "code",
   "execution_count": 5,
   "id": "dce21c00",
   "metadata": {},
   "outputs": [],
   "source": [
    "all_titles = driver.find_elements(By.XPATH, '/html/body/div[1]/div/section/div/div/div/div[2]/div[3]/div[*]/a/div/div/div[2]/div[1]')"
   ]
  },
  {
   "cell_type": "code",
   "execution_count": 6,
   "id": "d176cb18",
   "metadata": {},
   "outputs": [],
   "source": [
    "titles = []\n",
    "for ele in all_titles:\n",
    "    titles.append(ele.text)"
   ]
  },
  {
   "cell_type": "code",
   "execution_count": 7,
   "id": "e8cf9b47",
   "metadata": {},
   "outputs": [
    {
     "data": {
      "text/plain": [
       "50"
      ]
     },
     "execution_count": 7,
     "metadata": {},
     "output_type": "execute_result"
    }
   ],
   "source": [
    "len(titles)"
   ]
  },
  {
   "cell_type": "code",
   "execution_count": 8,
   "id": "6a698d10",
   "metadata": {},
   "outputs": [],
   "source": [
    "all_prices = driver.find_elements(By.XPATH, '/html/body/div[1]/div/section/div/div/div/div[2]/div[3]/div[*]/a/div/div/div[2]/div[2]/div/div[1]/strong')"
   ]
  },
  {
   "cell_type": "code",
   "execution_count": 9,
   "id": "91336834",
   "metadata": {},
   "outputs": [],
   "source": [
    "prices = []\n",
    "for price in all_prices:\n",
    "    prices.append(price.text)"
   ]
  },
  {
   "cell_type": "code",
   "execution_count": 10,
   "id": "abc85131",
   "metadata": {},
   "outputs": [
    {
     "data": {
      "text/plain": [
       "50"
      ]
     },
     "execution_count": 10,
     "metadata": {},
     "output_type": "execute_result"
    }
   ],
   "source": [
    "len(prices)"
   ]
  },
  {
   "cell_type": "code",
   "execution_count": 13,
   "id": "ce707051",
   "metadata": {},
   "outputs": [],
   "source": [
    "next_pg = driver.find_element(By.XPATH, '/html/body/div[1]/div/section/div/div/div/div[2]/div[4]/div/ul/li[4]/a/div/img')"
   ]
  },
  {
   "cell_type": "code",
   "execution_count": 14,
   "id": "b1ec8304",
   "metadata": {},
   "outputs": [],
   "source": [
    "next_pg.click()"
   ]
  },
  {
   "cell_type": "code",
   "execution_count": null,
   "id": "c369322b",
   "metadata": {},
   "outputs": [],
   "source": []
  },
  {
   "cell_type": "code",
   "execution_count": 16,
   "id": "4a0289fe",
   "metadata": {},
   "outputs": [
    {
     "name": "stdout",
     "output_type": "stream",
     "text": [
      "50\n",
      "58\n"
     ]
    }
   ],
   "source": [
    "titles = []\n",
    "prices = []\n",
    "\n",
    "while True:\n",
    "    all_titles = driver.find_elements(By.XPATH, '/html/body/div[1]/div/section/div/div/div/div[2]/div[3]/div[*]/a/div/div/div[2]/div[1]/span/span[1]')\n",
    "    all_prices = driver.find_elements(By.XPATH, '/html/body/div[1]/div/section/div/div/div/div[2]/div[3]/div[*]/a/div/div/div[2]/div[2]/div/div[1]')\n",
    "    \n",
    "    for ele in all_titles:\n",
    "        titles.append(ele.text)\n",
    "    \n",
    "    for price in all_prices:\n",
    "        prices.append(price.text)\n",
    "    print(len(titles))\n",
    "    \n",
    "    try:\n",
    "        next_pg = driver.find_element(By.CLASS_NAME, 'next')\n",
    "        next_pg.click()\n",
    "        time.sleep(1)\n",
    "    except:\n",
    "        break"
   ]
  },
  {
   "cell_type": "code",
   "execution_count": 17,
   "id": "7177d039",
   "metadata": {},
   "outputs": [],
   "source": [
    "noon = pd.DataFrame({'title': titles , 'price': prices})"
   ]
  },
  {
   "cell_type": "code",
   "execution_count": 18,
   "id": "81763edd",
   "metadata": {},
   "outputs": [
    {
     "data": {
      "text/html": [
       "<div>\n",
       "<style scoped>\n",
       "    .dataframe tbody tr th:only-of-type {\n",
       "        vertical-align: middle;\n",
       "    }\n",
       "\n",
       "    .dataframe tbody tr th {\n",
       "        vertical-align: top;\n",
       "    }\n",
       "\n",
       "    .dataframe thead th {\n",
       "        text-align: right;\n",
       "    }\n",
       "</style>\n",
       "<table border=\"1\" class=\"dataframe\">\n",
       "  <thead>\n",
       "    <tr style=\"text-align: right;\">\n",
       "      <th></th>\n",
       "      <th>title</th>\n",
       "      <th>price</th>\n",
       "    </tr>\n",
       "  </thead>\n",
       "  <tbody>\n",
       "    <tr>\n",
       "      <th>0</th>\n",
       "      <td>Samsung Galaxy Tab A (2019)\\n10.1 Inch, 32GB, ...</td>\n",
       "      <td>EGP 4236.20</td>\n",
       "    </tr>\n",
       "    <tr>\n",
       "      <th>1</th>\n",
       "      <td>HUAWEI MatePad T10 9.7-Inch,\\n2GB RAM, 32GB, W...</td>\n",
       "      <td>EGP 2809.50</td>\n",
       "    </tr>\n",
       "    <tr>\n",
       "      <th>2</th>\n",
       "      <td>Apple iPad Pro 2021 (3rd\\nGeneration) 11-Inch,...</td>\n",
       "      <td>EGP 18880.00</td>\n",
       "    </tr>\n",
       "    <tr>\n",
       "      <th>3</th>\n",
       "      <td>HUAWEI Matepad 10.4-Inch\\n64GB 4G LTE Midnight...</td>\n",
       "      <td>EGP 4999.00</td>\n",
       "    </tr>\n",
       "    <tr>\n",
       "      <th>4</th>\n",
       "      <td>NOKIA T20 10.4 Inch Deep\\nOcean 4GB RAM 64GB 4...</td>\n",
       "      <td>EGP 4399.00</td>\n",
       "    </tr>\n",
       "  </tbody>\n",
       "</table>\n",
       "</div>"
      ],
      "text/plain": [
       "                                               title         price\n",
       "0  Samsung Galaxy Tab A (2019)\\n10.1 Inch, 32GB, ...   EGP 4236.20\n",
       "1  HUAWEI MatePad T10 9.7-Inch,\\n2GB RAM, 32GB, W...   EGP 2809.50\n",
       "2  Apple iPad Pro 2021 (3rd\\nGeneration) 11-Inch,...  EGP 18880.00\n",
       "3  HUAWEI Matepad 10.4-Inch\\n64GB 4G LTE Midnight...   EGP 4999.00\n",
       "4  NOKIA T20 10.4 Inch Deep\\nOcean 4GB RAM 64GB 4...   EGP 4399.00"
      ]
     },
     "execution_count": 18,
     "metadata": {},
     "output_type": "execute_result"
    }
   ],
   "source": [
    "noon.head()"
   ]
  },
  {
   "cell_type": "code",
   "execution_count": null,
   "id": "aec95824",
   "metadata": {},
   "outputs": [],
   "source": []
  }
 ],
 "metadata": {
  "kernelspec": {
   "display_name": "Python 3 (ipykernel)",
   "language": "python",
   "name": "python3"
  },
  "language_info": {
   "codemirror_mode": {
    "name": "ipython",
    "version": 3
   },
   "file_extension": ".py",
   "mimetype": "text/x-python",
   "name": "python",
   "nbconvert_exporter": "python",
   "pygments_lexer": "ipython3",
   "version": "3.9.7"
  }
 },
 "nbformat": 4,
 "nbformat_minor": 5
}
